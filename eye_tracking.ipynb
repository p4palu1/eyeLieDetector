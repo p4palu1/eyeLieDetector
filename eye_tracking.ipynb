{
  "nbformat": 4,
  "nbformat_minor": 0,
  "metadata": {
    "colab": {
      "name": "eye_tracking.ipynb",
      "provenance": [],
      "collapsed_sections": [],
      "include_colab_link": true
    },
    "kernelspec": {
      "name": "python3",
      "display_name": "Python 3"
    },
    "language_info": {
      "name": "python"
    }
  },
  "cells": [
    {
      "cell_type": "markdown",
      "metadata": {
        "id": "view-in-github",
        "colab_type": "text"
      },
      "source": [
        "<a href=\"https://colab.research.google.com/github/p4palu1/pythonProject/blob/main/eye_tracking.ipynb\" target=\"_parent\"><img src=\"https://colab.research.google.com/assets/colab-badge.svg\" alt=\"Open In Colab\"/></a>"
      ]
    },
    {
      "cell_type": "markdown",
      "metadata": {
        "id": "xiekzI3twpHn"
      },
      "source": [
        "`Magic box`"
      ]
    },
    {
      "cell_type": "markdown",
      "metadata": {
        "id": "Da86G3DM-Seq"
      },
      "source": [
        "\n",
        "#**`Warning !!!!!!!!`**\n",
        "```\n",
        "## Don't mess with my code ✊\n",
        "```\n",
        "\n"
      ]
    },
    {
      "cell_type": "markdown",
      "metadata": {
        "id": "43KDhoVG_S33"
      },
      "source": [
        "#**`I was serious it hasn't recovery option`**"
      ]
    },
    {
      "cell_type": "markdown",
      "metadata": {
        "id": "hJsUPYqLv9PI"
      },
      "source": [
        "Imports"
      ]
    },
    {
      "cell_type": "code",
      "metadata": {
        "id": "5ExRWPMyv9Vk"
      },
      "source": [
        "import cv2\n",
        "import numpy as np\n",
        "import csv"
      ],
      "execution_count": null,
      "outputs": []
    },
    {
      "cell_type": "markdown",
      "metadata": {
        "id": "0nlvDOtuu-wW"
      },
      "source": [
        "create variables"
      ]
    },
    {
      "cell_type": "code",
      "metadata": {
        "id": "wUp16cQ_u-TM",
        "colab": {
          "base_uri": "https://localhost:8080/",
          "height": 235
        },
        "outputId": "fee7044c-2b59-43c1-9e1c-dbe3f3a31ade"
      },
      "source": [
        "# to do methos instead long code\n",
        "\n",
        "cap = cv2.VideoCapture(\"eye_recording.flv\")\n",
        "# eye detection tool\n",
        "#eye_cascade = cv2.CascadeClassifier('haarcascade_eye.xml')\n",
        "\n",
        "## variables for average eye area calculation\n",
        "sum_areas = 0\n",
        "count_frames = 0\n",
        "average = 0 \n",
        "\n",
        "#point of center\n",
        "X0,Y0=0,0\n",
        "X_values, Y_values=np.array([]).reshape(-1, 1), np.array([]).reshape(-1, 1)\n",
        "#each block_size will be data analisis\n",
        "frames_block_size=2 #sampling resolution\n",
        "# the number of division areas of the angle\n",
        "div_num = 8\n",
        "\n",
        "#num of common moevments to export\n",
        "moevments_to_export = 4\n",
        "\n",
        "#noise ignore level at the movements\n",
        "noise_ignore_level=1"
      ],
      "execution_count": null,
      "outputs": [
        {
          "output_type": "error",
          "ename": "NameError",
          "evalue": "ignored",
          "traceback": [
            "\u001b[0;31m---------------------------------------------------------------------------\u001b[0m",
            "\u001b[0;31mNameError\u001b[0m                                 Traceback (most recent call last)",
            "\u001b[0;32m<ipython-input-1-f1c4154a2ba2>\u001b[0m in \u001b[0;36m<module>\u001b[0;34m()\u001b[0m\n\u001b[1;32m      1\u001b[0m \u001b[0;31m# to do methos instead long code\u001b[0m\u001b[0;34m\u001b[0m\u001b[0;34m\u001b[0m\u001b[0;34m\u001b[0m\u001b[0m\n\u001b[1;32m      2\u001b[0m \u001b[0;34m\u001b[0m\u001b[0m\n\u001b[0;32m----> 3\u001b[0;31m \u001b[0mcap\u001b[0m \u001b[0;34m=\u001b[0m \u001b[0mcv2\u001b[0m\u001b[0;34m.\u001b[0m\u001b[0mVideoCapture\u001b[0m\u001b[0;34m(\u001b[0m\u001b[0;34m\"eye_recording.flv\"\u001b[0m\u001b[0;34m)\u001b[0m\u001b[0;34m\u001b[0m\u001b[0;34m\u001b[0m\u001b[0m\n\u001b[0m\u001b[1;32m      4\u001b[0m \u001b[0;31m# eye detection tool\u001b[0m\u001b[0;34m\u001b[0m\u001b[0;34m\u001b[0m\u001b[0;34m\u001b[0m\u001b[0m\n\u001b[1;32m      5\u001b[0m \u001b[0;31m#eye_cascade = cv2.CascadeClassifier('haarcascade_eye.xml')\u001b[0m\u001b[0;34m\u001b[0m\u001b[0;34m\u001b[0m\u001b[0;34m\u001b[0m\u001b[0m\n",
            "\u001b[0;31mNameError\u001b[0m: name 'cv2' is not defined"
          ]
        }
      ]
    },
    {
      "cell_type": "markdown",
      "metadata": {
        "id": "JdXRPIVQvDJP"
      },
      "source": [
        "Data Mining"
      ]
    },
    {
      "cell_type": "code",
      "metadata": {
        "id": "k8diCthDwo0U"
      },
      "source": [
        "\n",
        "with open('angle and length of eye.csv', 'w', newline='') as csvfile:\n",
        "    fieldnames = ['angle', 'length','T','F']\n",
        "    writer = csv.DictWriter(csvfile, fieldnames=fieldnames)\n",
        "    writer.writeheader()\n",
        "\n",
        "\n",
        "    while True:\n",
        "        ret, frame = cap.read()\n",
        "        if ret is False:\n",
        "            break\n",
        "    \n",
        "        roi = frame[269: 795, 637: 1516]\n",
        "        rows, cols, _ = roi.shape\n",
        "        gray_roi = cv2.cvtColor(roi, cv2.COLOR_BGR2GRAY)\n",
        "        gray_roi = cv2.GaussianBlur(gray_roi, (7, 7), 0)\n",
        "    \n",
        "        ret, threshold = cv2.threshold(gray_roi, 3, 255, cv2.THRESH_BINARY_INV)\n",
        "        contours, hierarchy  = cv2.findContours(threshold, cv2.RETR_TREE, cv2.CHAIN_APPROX_SIMPLE)\n",
        "        contours = sorted(contours, key=lambda x: cv2.contourArea(x), reverse=True)\n",
        "\n",
        "        ## implementing the cascade\n",
        "        ##eyes = eye_cascade.detectMultiScale(gray_roi)\n",
        "        ##biggest = 0\n",
        "\n",
        "        ## The program usually detects multiple eyes(incorrectly), this code takes the most correct detection\n",
        "        ##for (ex, ey, ew, eh) in eyes:\n",
        "        ##    area = (ew-ex)*(eh-ey)\n",
        "        ##    if area > biggest:\n",
        "        ##        biggest = area\n",
        "\n",
        "        ##for (ex, ey, ew, eh) in eyes:\n",
        "        ##    area = (ew-ex)*(eh-ey)\n",
        "        ##    if area == biggest:\n",
        "        ##        cv2.rectangle(roi, (ex, ey), (ex+ew, ey+eh), (0, 255, 0), 2)\n",
        "\n",
        "        ##sum_areas += biggest\n",
        "        ##count_frames += 1\n",
        "        ##average = 0 \n",
        "        ##if count_frames > 0:\n",
        "        ##  average = sum_areas/count_frames\n",
        "\n",
        "        for cnt in contours:\n",
        "            (x, y, w, h) = cv2.boundingRect(cnt)\n",
        "\n",
        "            #save start point (assume is center point of eyes)\n",
        "            if(X0==0):\n",
        "                X0+=x\n",
        "                Y0+=y\n",
        "\n",
        "            #add the frame point\n",
        "            X_values=np.append(X_values,x-X0).reshape(-1, 1)\n",
        "            Y_values=np.append(Y_values,y-Y0).reshape(-1, 1)\n",
        "            cv2.drawContours(roi, [cnt], -1, (0, 0, 255), 3)\n",
        "            cv2.rectangle(roi, (x, y), (x + w, y + h), (255, 0, 0), 2)\n",
        "            cv2.line(roi, (x + int(w/2), 0), (x + int(w/2), rows), (0, 255, 0), 2)\n",
        "            cv2.line(roi, (0, y + int(h/2)), (cols, y + int(h/2)), (0, 255, 0), 2)\n",
        "            break\n",
        "    \n",
        "        if(X_values.size==frames_block_size):\n",
        "\n",
        "            # SVR for X and Y any analysis_each_frames\n",
        "            from sklearn.preprocessing import StandardScaler\n",
        "            sc_X = StandardScaler()\n",
        "            sc_y = StandardScaler()\n",
        "            X = sc_X.fit_transform(X_values)\n",
        "            y = sc_y.fit_transform(Y_values)\n",
        "            from sklearn.svm import SVR\n",
        "            regressor = SVR(kernel = 'rbf')\n",
        "            regressor.fit(X, y)\n",
        "\n",
        "            import math\n",
        "            # get the angle from the gradiant\n",
        "            angle = math.atan(sc_y.inverse_transform(regressor.predict(np.array([1]).reshape(-1, 1)).reshape(-1,1)))\n",
        "            if(angle<0):\n",
        "                angle=2+angle\n",
        "            angle=angle*180//(360/div_num)\n",
        "\n",
        "            #get length\n",
        "            lenY= sc_y.inverse_transform(regressor.predict(sc_X.transform([[frames_block_size]])).reshape(-1,1))*0.5 #reducing impact of Y on the length\n",
        "            length = math.sqrt(math.pow(frames_block_size, 2)+math.pow(lenY, 2))//10 #accuracy\n",
        "            X_values, Y_values=np.array([]), np.array([])\n",
        "            \n",
        "            writer.writerow({'angle': angle, 'length': length,'T':angle<div_num/2,'F':angle>=div_num/2})\n",
        "##print(average)"
      ],
      "execution_count": null,
      "outputs": []
    },
    {
      "cell_type": "markdown",
      "metadata": {
        "id": "6DuN1gXCsL80"
      },
      "source": [
        "Data analysis"
      ]
    },
    {
      "cell_type": "code",
      "metadata": {
        "colab": {
          "base_uri": "https://localhost:8080/"
        },
        "id": "at8nbvBesPNv",
        "outputId": "35c008ad-6f38-4c62-b126-e8fec22788f1"
      },
      "source": [
        "with open('angle and length of eye.csv', mode='r') as infile:\n",
        "    reader = csv.reader(infile)        \n",
        "    header = next(reader)\n",
        "\n",
        "    # count frequency of movements\n",
        "    lastvalue=-1\n",
        "    noise_level=0\n",
        "    index=-1\n",
        "    movements_index_names= list()\n",
        "    from collections import Counter\n",
        "    movements_frequency=Counter()\n",
        "    for rows in reader:\n",
        "      if(float(rows[1])>0):\n",
        "        if(lastvalue==-1):\n",
        "          lastvalue=rows[0]\n",
        "        if(lastvalue!=rows[0] and noise_level<noise_ignore_level):\n",
        "            noise_level+=1\n",
        "        else:\n",
        "          noise_level=0\n",
        "          if(index==-1 or lastvalue!=rows[0]):\n",
        "            lastvalue=rows[0]\n",
        "            index+=1\n",
        "            movements_index_names.append(float(rows[0]))\n",
        "            movements_frequency[index]=0\n",
        "          movements_frequency[index]+=1\n",
        "    \n",
        "    most_common = movements_frequency.most_common(moevments_to_export)\n",
        "    \n",
        "    most_common.sort()\n",
        "    \n",
        "\n",
        "    #write results\n",
        "    with open('movements.csv', mode='w') as outfile:\n",
        "      fieldnames=list()\n",
        "      for i in range(0,moevments_to_export):\n",
        "        fieldnames.append('movement '+ str(i))\n",
        "        \n",
        "      fieldnames.append('T')\n",
        "      fieldnames.append('F')\n",
        "      row=dict()\n",
        "      i=0\n",
        "      for common in most_common:\n",
        "        row[fieldnames[i]]=movements_index_names[common[0]]\n",
        "        print(row)\n",
        "        i+=1\n",
        "      row['T']=0\n",
        "      row['F']=1\n",
        "      writer = csv.DictWriter(outfile, fieldnames=fieldnames)\n",
        "      writer.writeheader()\n",
        "      writer.writerow(row)\n"
      ],
      "execution_count": null,
      "outputs": [
        {
          "output_type": "stream",
          "name": "stdout",
          "text": [
            "{'movement 0': 1.0}\n",
            "{'movement 0': 1.0, 'movement 1': 6.0}\n",
            "{'movement 0': 1.0, 'movement 1': 6.0, 'movement 2': 1.0}\n"
          ]
        }
      ]
    }
  ]
}